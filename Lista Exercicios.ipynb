{
 "cells": [
  {
   "cell_type": "code",
   "execution_count": null,
   "metadata": {},
   "outputs": [],
   "source": [
    "#Exercício Nº1:Escreva um programa que imprime \"Olá, Mundo!\" na tela.\n",
    "\n",
    "print(\"Olá Mundo!\")"
   ]
  },
  {
   "cell_type": "code",
   "execution_count": null,
   "metadata": {},
   "outputs": [],
   "source": [
    "#Exercício Nº2:Peça ao usuário para digitar dois números e imprima a soma deles.\n",
    "\n",
    "numero1 = int(input(\"Digite o primeiro número: \"))\n",
    "numero2 = int(input(\"Digite o segundo número: \"))\n",
    "soma = numero1 + numero2\n",
    "print(\"A soma é:\", soma)\n"
   ]
  },
  {
   "cell_type": "code",
   "execution_count": null,
   "metadata": {},
   "outputs": [],
   "source": [
    "#Exercício Nº3:Peça ao usuário para digitar um número inteiro e informe se o número é par ou ímpar.\n",
    "\n",
    "numero = int(input(\"Digite um número inteiro: \"))\n",
    "if numero % 2 == 0:\n",
    "    print(\"O número é par.\")\n",
    "else:\n",
    "    print(\"O número é ímpar.\")"
   ]
  },
  {
   "cell_type": "code",
   "execution_count": null,
   "metadata": {},
   "outputs": [],
   "source": [
    "#Exercício Nº4:Crie um programa que peça dois números e a operação desejada (+, -, *, /) e exiba o resultado.\n",
    "\n",
    "numero1 = int(input(\"Digite o primeiro número: \"))\n",
    "numero2 = int(input(\"Digite o segundo número: \"))\n",
    "operacao = input(\"Qual operação você deseja usar (+, -, *, /): \")\n",
    "\n",
    "if operacao == \"+\":\n",
    "    resultado = numero1 + numero2\n",
    "elif operacao == \"-\":\n",
    "    resultado = numero1 - numero2\n",
    "elif operacao == \"*\":\n",
    "    resultado = numero1 * numero2\n",
    "elif operacao == \"/\":\n",
    "    if numero2 != 0:\n",
    "        resultado = numero1 / numero2\n",
    "else:\n",
    "    print(\"Operação inválida.\")\n",
    "print(\"Resultado:\", resultado)\n"
   ]
  },
  {
   "cell_type": "code",
   "execution_count": null,
   "metadata": {},
   "outputs": [],
   "source": [
    "#Exercício Nº5: Peça ao usuário para digitar três notas e calcule a média delas.\n",
    "\n",
    "nota1 = input(\"Insira sua nota do primeiro trimestre: \")\n",
    "nota2 = input(\"Insira sua nota do segundo trimestre: \")\n",
    "nota3 = input(\"Insira sua nota do terceiro trimestre: \")\n",
    "\n",
    "média = (float(nota1) + float(nota2) + float(nota3)) / 3\n",
    "\n",
    "print(\"A média das notas é:\", round(média, 1))\n",
    "\n",
    "\n",
    "\n"
   ]
  },
  {
   "cell_type": "code",
   "execution_count": null,
   "metadata": {},
   "outputs": [],
   "source": [
    "#Exercício Nº6: Escreva um programa que converta uma temperatura de graus Celsius para Fahrenheit.\n",
    "\n",
    "Celsius = float(input(\"Insira a temperatura em Celsius para ser convertida: \"))\n",
    "Fahrenheit = float(Celsius * 1.8) + 32 \n",
    "\n",
    "print(f\"A temperatura convertida em Fahrenheit é: {Fahrenheit}ºF\")"
   ]
  },
  {
   "cell_type": "code",
   "execution_count": null,
   "metadata": {},
   "outputs": [],
   "source": [
    "#Exercício Nº7: Peça ao usuário para digitar um número e calcule o fatorial desse número.\n",
    "\n",
    "numero = int(input(\"Digite um número inteiro: \"))\n",
    "fatorial = 1\n",
    "\n",
    "for i in range(1, numero + 1):\n",
    "    fatorial *= i\n",
    "\n",
    "print(f\"O fatorial de {numero} é: {fatorial}\")"
   ]
  },
  {
   "cell_type": "code",
   "execution_count": null,
   "metadata": {},
   "outputs": [],
   "source": [
    "#Exercício Nº8: Escreva um programa que conta e imprime todos os números ímpares entre 1 e 100.\n",
    "\n",
    "for numero in range(1, 101):\n",
    "    if numero % 2!= 0:\n",
    "        print(numero)"
   ]
  },
  {
   "cell_type": "code",
   "execution_count": null,
   "metadata": {},
   "outputs": [],
   "source": [
    "#Exercício Nº9: Peça ao usuário para digitar um número e verifique se ele é primo.\n",
    "\n",
    "numero = int(input(\"Digite um número inteiro: \"))\n",
    "\n",
    "if numero <= 1:\n",
    "    print(f\"O número {numero} não é primo.\")\n",
    "else:\n",
    "    for i in range(2, numero):\n",
    "        if numero % i == 0:\n",
    "            print(f\"O número {numero} não é primo.\")\n",
    "            break\n",
    "    else:\n",
    "        print(f\"O número {numero} é primo.\")\n",
    "\n",
    "\n",
    "\n",
    "\n",
    "\n",
    "\n",
    "\n",
    "\n",
    "\n",
    "\n",
    "            \n",
    "     \n",
    "\n",
    " \n",
    "\n",
    "  \n",
    "\n"
   ]
  },
  {
   "cell_type": "code",
   "execution_count": null,
   "metadata": {},
   "outputs": [],
   "source": [
    "#Exercício Nº10: Peça ao usuário para digitar uma string e imprima essa string de forma invertida.\n",
    "\n",
    "string = input(\"Digite uma string: \")\n",
    "invertida = string[::-1]\n",
    "print(\"A string invertida fica assim:\",invertida)\n"
   ]
  },
  {
   "cell_type": "code",
   "execution_count": null,
   "metadata": {},
   "outputs": [],
   "source": [
    "#Exercício Nº11: Peça ao usuário para digitar um número e imprima a tabuada desse número de 1 a 10.\n",
    "\n",
    "numero = int(input(\"Digite um número inteiro: \"))\n",
    "\n",
    "for i in range(1, 11):\n",
    "    print(f\"{numero} x {i} = {numero * i}\")\n"
   ]
  },
  {
   "cell_type": "code",
   "execution_count": null,
   "metadata": {},
   "outputs": [],
   "source": [
    "#Exercício Nº12: Escreva um programa que conte o número de vogais em uma string fornecida pelo usuário.\n",
    "\n",
    "def contar_vogais(texto):\n",
    "    vogais = \"aeiouAEIOU\"\n",
    "    contagem = 0\n",
    "    for vogal in texto:\n",
    "        if vogal in vogais:\n",
    "            contagem += 1\n",
    "    return contagem\n",
    "\n",
    "texto_usuario = input(\"Digite uma string: \")\n",
    "numero_de_vogais = contar_vogais(texto_usuario)\n",
    "print(f\"O número de vogais na string {texto_usuario} é: {numero_de_vogais}\")\n",
    "\n",
    "\n",
    "\n",
    "\n",
    "    \n",
    "    \n",
    "\n"
   ]
  },
  {
   "cell_type": "code",
   "execution_count": null,
   "metadata": {},
   "outputs": [],
   "source": [
    "#Exercício Nº13: Crie uma lista de números e escreva um programa que some todos os elementos dessa lista.\n",
    "\n",
    "lista = [1, 2, 3, 4, 5, 6, 7, 8, 9, 10]\n",
    "soma = sum(lista)\n",
    "print(\"A soma dos elementos da lista é:\", soma)\n",
    "\n"
   ]
  },
  {
   "cell_type": "code",
   "execution_count": null,
   "metadata": {},
   "outputs": [],
   "source": [
    "#Exercício Nº14: Peça ao usuário para digitar uma lista de números e exiba o maior número dessa lista.\n",
    "\n",
    "def encontrar_maior_número():\n",
    "    lista = input(\"Digite uma lista de números separados por vírgula: \").split(\",\")\n",
    "    maior = float('-inf')\n",
    "    for numero in lista:\n",
    "        numero = int(número)\n",
    "        if numero > maior:\n",
    "            maior = numero\n",
    "    return maior\n",
    "\n",
    "maior_número = encontrar_maior_número()\n",
    "\n",
    "print(\"O maior número da lista é:\", maior_número)\n",
    "\n"
   ]
  },
  {
   "cell_type": "code",
   "execution_count": null,
   "metadata": {},
   "outputs": [],
   "source": [
    "#Exercício Nº15: Dada uma lista de números, crie um programa que exiba apenas os números pares.\n",
    "\n",
    "def números_pares(lista):\n",
    "    pares = [num for num in lista if num % 2 == 0]\n",
    "    return pares\n",
    "\n",
    "lista = [1, 2, 3, 4, 5, 6, 7, 8, 9, 10]\n",
    "pares = números_pares(lista)\n",
    "print(\"Os números pares são:\", pares)\n",
    "\n"
   ]
  },
  {
   "cell_type": "code",
   "execution_count": null,
   "metadata": {},
   "outputs": [],
   "source": [
    "#Exercício Nº16: Escreva um programa que faça uma contagem regressiva de 10 a 0, imprimindo os números na tela.\n",
    "\n",
    "import time\n",
    "\n",
    "def contagem_regressiva():\n",
    "    for segundos in range(10, -1, -1):\n",
    "        print(segundos)\n",
    "        time.sleep(1)\n",
    "\n",
    "contagem_regressiva()"
   ]
  },
  {
   "cell_type": "code",
   "execution_count": null,
   "metadata": {},
   "outputs": [],
   "source": [
    "#Exercício Nº17: Escreva um programa que gera os primeiros 10 números da sequência de Fibonacci.\n",
    "\n",
    "def fibonacci(n):\n",
    "    sequencia_fibonacci = [0, 1]\n",
    "    while len(sequencia_fibonacci) < n:\n",
    "        sequencia_fibonacci.append(sequencia_fibonacci[-1] + sequencia_fibonacci[-2])\n",
    "    return sequencia_fibonacci\n",
    "\n",
    "primeiros_10_numeros_fibonacci = fibonacci(10)\n",
    "\n",
    "\n",
    "print(\"Os primeiros 10 números da sequência de Fibonacci são:\", primeiros_10_numeros_fibonacci)\n"
   ]
  },
  {
   "cell_type": "code",
   "execution_count": null,
   "metadata": {},
   "outputs": [],
   "source": [
    "#Exercício Nº18: Crie um programa que simule o lançamento de uma moeda (cara ou coroa) e exiba o resultado.\n",
    "\n",
    "import random\n",
    "\n",
    "def lançar_moeda():\n",
    "    resultado = random.choice([\"cara\", \"coroa\"])\n",
    "    return resultado\n",
    "\n",
    "lancamento_moeda = lançar_moeda()\n",
    "\n",
    "print(\"O resultado do lançamento da moeda é:\", lancamento_moeda) "
   ]
  },
  {
   "cell_type": "code",
   "execution_count": null,
   "metadata": {},
   "outputs": [],
   "source": [
    "#Exercício Nº19: Peça ao usuário para digitar uma palavra e verifique se ela é um palíndromo (lê-se da mesma forma de trás para frente).\n",
    "\n",
    "def verificar_palindromo(palavra):\n",
    "    return palavra == palavra[::-1]\n",
    "\n",
    "palavra = input(\"Digite uma palavra: \").lower()\n",
    "if verificar_palindromo(palavra):\n",
    "    print(f\"{palavra} é um palíndromo.\")\n",
    "else:\n",
    "    print(f\"{palavra} não é um palíndromo.\")\n",
    "    "
   ]
  },
  {
   "cell_type": "code",
   "execution_count": 48,
   "metadata": {},
   "outputs": [
    {
     "name": "stdout",
     "output_type": "stream",
     "text": [
      "Tente adivinhar o número que estou pensando, entre 1 e 100.\n",
      "O número é menor do que isso.\n",
      "O número é menor do que isso.\n",
      "O número é menor do que isso.\n",
      "O número é maior do que isso.\n",
      "O número é maior do que isso.\n",
      "O número é menor do que isso.\n",
      "O número é menor do que isso.\n",
      "O número é menor do que isso.\n",
      "O número é menor do que isso.\n",
      "Parabéns! Você acertou o número em 10 tentativas.\n"
     ]
    }
   ],
   "source": [
    "#Exercício Nº20: Crie um programa onde o computador escolhe um número aleatório entre 1 e 100 e o usuário deve tentar adivinhar o número. O programa deve dar dicas se o número escolhido é maior ou menor que a tentativa do usuário.\n",
    "\n",
    "import random\n",
    "\n",
    "def adivinhacao():\n",
    "    numero_secreto = random.randint(1, 100)\n",
    "    tentativas = 0\n",
    "    acertou = False\n",
    "\n",
    "    print(\"Tente adivinhar o número que estou pensando, entre 1 e 100.\")\n",
    "\n",
    "    while not acertou:\n",
    "        palpite = int(input(\"Digite seu palpite: \"))\n",
    "        tentativas += 1\n",
    "\n",
    "        if palpite < numero_secreto:\n",
    "            print(\"O número é maior do que isso.\")\n",
    "        elif palpite > numero_secreto:\n",
    "            print(\"O número é menor do que isso.\")\n",
    "        else:\n",
    "            acertou = True\n",
    "            print(f\"Parabéns! Você acertou o número em {tentativas} tentativas.\") \n",
    "            \n",
    "adivinhacao()\n"
   ]
  }
 ],
 "metadata": {
  "kernelspec": {
   "display_name": "base",
   "language": "python",
   "name": "python3"
  },
  "language_info": {
   "codemirror_mode": {
    "name": "ipython",
    "version": 3
   },
   "file_extension": ".py",
   "mimetype": "text/x-python",
   "name": "python",
   "nbconvert_exporter": "python",
   "pygments_lexer": "ipython3",
   "version": "3.12.4"
  }
 },
 "nbformat": 4,
 "nbformat_minor": 2
}
